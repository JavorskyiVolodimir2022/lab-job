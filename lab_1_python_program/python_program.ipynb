{
 "cells": [
  {
   "cell_type": "markdown",
   "metadata": {},
   "source": [
    "## Моя перша програма\n",
    "\n",
    "\n",
    "• простий вивід через print"
   ]
  },
  {
   "cell_type": "code",
   "execution_count": 1,
   "metadata": {},
   "outputs": [
    {
     "name": "stdout",
     "output_type": "stream",
     "text": [
      "Volodimir start programming at 2022-11-29 20:06:28.206549\n"
     ]
    }
   ],
   "source": [
    "from datetime import datetime\n",
    "name = \"Volodimir\"\n",
    "\n",
    "print(f\"{name} start programming at {datetime.now()}\")"
   ]
  },
  {
   "cell_type": "code",
   "execution_count": null,
   "metadata": {},
   "outputs": [],
   "source": []
  }
 ],
 "metadata": {
  "kernelspec": {
   "display_name": "Python 3.10.8 64-bit",
   "language": "python",
   "name": "python3"
  },
  "language_info": {
   "codemirror_mode": {
    "name": "ipython",
    "version": 3
   },
   "file_extension": ".py",
   "mimetype": "text/x-python",
   "name": "python",
   "nbconvert_exporter": "python",
   "pygments_lexer": "ipython3",
   "version": "3.10.8"
  },
  "orig_nbformat": 4,
  "vscode": {
   "interpreter": {
    "hash": "1034f2100e93bf5434b48de2d54061f10cbdf6ee551c15b4d90a797b2a83a031"
   }
  }
 },
 "nbformat": 4,
 "nbformat_minor": 2
}
